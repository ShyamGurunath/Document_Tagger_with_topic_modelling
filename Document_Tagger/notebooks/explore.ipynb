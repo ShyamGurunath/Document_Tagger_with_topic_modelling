{
 "cells": [
  {
   "cell_type": "code",
   "execution_count": 1,
   "source": [
    "import spacy\n",
    "from spacy.displacy import render\n",
    "import nltk"
   ],
   "outputs": [],
   "metadata": {}
  },
  {
   "cell_type": "code",
   "execution_count": 2,
   "source": [
    "nlp = spacy.load(\"en_core_web_sm\")"
   ],
   "outputs": [],
   "metadata": {}
  },
  {
   "cell_type": "code",
   "execution_count": 3,
   "source": [
    "doc = nlp(\"max hello Apple, is was integer comment slslsl sdcds\")"
   ],
   "outputs": [],
   "metadata": {}
  },
  {
   "cell_type": "code",
   "execution_count": 4,
   "source": [
    "words = []\n",
    "for entity in doc:\n",
    "    print(entity.text)"
   ],
   "outputs": [
    {
     "output_type": "stream",
     "name": "stdout",
     "text": [
      "max\n",
      "hello\n",
      "Apple\n",
      ",\n",
      "is\n",
      "was\n",
      "integer\n",
      "comment\n",
      "slslsl\n",
      "sdcds\n"
     ]
    }
   ],
   "metadata": {}
  },
  {
   "cell_type": "code",
   "execution_count": 5,
   "source": [
    "from nltk.stem import SnowballStemmer,PorterStemmer\n",
    "from nltk.sentiment import SentimentAnalyzer"
   ],
   "outputs": [],
   "metadata": {}
  },
  {
   "cell_type": "code",
   "execution_count": null,
   "source": [],
   "outputs": [],
   "metadata": {}
  }
 ],
 "metadata": {
  "orig_nbformat": 4,
  "language_info": {
   "name": "python",
   "version": "3.8.10",
   "mimetype": "text/x-python",
   "codemirror_mode": {
    "name": "ipython",
    "version": 3
   },
   "pygments_lexer": "ipython3",
   "nbconvert_exporter": "python",
   "file_extension": ".py"
  },
  "kernelspec": {
   "name": "python3",
   "display_name": "Python 3.8.10 64-bit ('pyenv': conda)"
  },
  "interpreter": {
   "hash": "724c9c32304abdc9142f748fadd829594ff4444b5b0d1c6b9b91fd8e7bec0639"
  }
 },
 "nbformat": 4,
 "nbformat_minor": 2
}